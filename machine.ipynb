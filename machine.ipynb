{
 "cells": [
  {
   "cell_type": "markdown",
   "metadata": {},
   "source": [
    "This problem canbe solved by Topic Modeling.It allow us to efficiently analyze large amount of text by clustering documents into topic and large amount of text data is unlabelled. If we have unlabelled data then we can attempt to discover labels which means attempting to discover cluster of documents grouped together by topic.  "
   ]
  },
  {
   "cell_type": "code",
   "execution_count": 1,
   "metadata": {},
   "outputs": [],
   "source": [
    "import numpy as np\n",
    "import pandas as pd\n",
    "import spacy"
   ]
  },
  {
   "cell_type": "code",
   "execution_count": 2,
   "metadata": {},
   "outputs": [],
   "source": [
    "df_machine = pd.read_csv('C:/Users/ANKIT/Desktop/data_science_project-master/machine.csv')"
   ]
  },
  {
   "cell_type": "code",
   "execution_count": 4,
   "metadata": {},
   "outputs": [
    {
     "data": {
      "text/html": [
       "<div>\n",
       "<style scoped>\n",
       "    .dataframe tbody tr th:only-of-type {\n",
       "        vertical-align: middle;\n",
       "    }\n",
       "\n",
       "    .dataframe tbody tr th {\n",
       "        vertical-align: top;\n",
       "    }\n",
       "\n",
       "    .dataframe thead th {\n",
       "        text-align: right;\n",
       "    }\n",
       "</style>\n",
       "<table border=\"1\" class=\"dataframe\">\n",
       "  <thead>\n",
       "    <tr style=\"text-align: right;\">\n",
       "      <th></th>\n",
       "      <th>Article</th>\n",
       "    </tr>\n",
       "  </thead>\n",
       "  <tbody>\n",
       "    <tr>\n",
       "      <th>0</th>\n",
       "      <td>Np^g tj5vQ  key NKVZl31 ZV</td>\n",
       "    </tr>\n",
       "    <tr>\n",
       "      <th>1</th>\n",
       "      <td>EcN !d7g moTL!3c* e^n qsG page l0u</td>\n",
       "    </tr>\n",
       "    <tr>\n",
       "      <th>2</th>\n",
       "      <td>@@rvbv 5r gYXWL police  nVV8 RZD.fV&amp;2n Jc0 EQ2iX</td>\n",
       "    </tr>\n",
       "    <tr>\n",
       "      <th>3</th>\n",
       "      <td>pZ80yue ^  difference 8Z8Z i VhK,Tn Mqj!RpIy</td>\n",
       "    </tr>\n",
       "    <tr>\n",
       "      <th>4</th>\n",
       "      <td>bKQIM@v jd3D6nnK qlru9 administration c XhM%A6...</td>\n",
       "    </tr>\n",
       "  </tbody>\n",
       "</table>\n",
       "</div>"
      ],
      "text/plain": [
       "                                             Article\n",
       "0                         Np^g tj5vQ  key NKVZl31 ZV\n",
       "1                 EcN !d7g moTL!3c* e^n qsG page l0u\n",
       "2   @@rvbv 5r gYXWL police  nVV8 RZD.fV&2n Jc0 EQ2iX\n",
       "3       pZ80yue ^  difference 8Z8Z i VhK,Tn Mqj!RpIy\n",
       "4  bKQIM@v jd3D6nnK qlru9 administration c XhM%A6..."
      ]
     },
     "execution_count": 4,
     "metadata": {},
     "output_type": "execute_result"
    }
   ],
   "source": [
    "df_machine.head()"
   ]
  },
  {
   "cell_type": "code",
   "execution_count": 5,
   "metadata": {},
   "outputs": [
    {
     "data": {
      "text/plain": [
       "'Np^g tj5vQ  key NKVZl31 ZV'"
      ]
     },
     "execution_count": 5,
     "metadata": {},
     "output_type": "execute_result"
    }
   ],
   "source": [
    "df_machine['Article'][0]"
   ]
  },
  {
   "cell_type": "code",
   "execution_count": 6,
   "metadata": {},
   "outputs": [
    {
     "data": {
      "text/plain": [
       "500"
      ]
     },
     "execution_count": 6,
     "metadata": {},
     "output_type": "execute_result"
    }
   ],
   "source": [
    "len(df_machine)"
   ]
  },
  {
   "cell_type": "code",
   "execution_count": 7,
   "metadata": {},
   "outputs": [],
   "source": [
    "from sklearn.feature_extraction.text import CountVectorizer"
   ]
  },
  {
   "cell_type": "code",
   "execution_count": 8,
   "metadata": {},
   "outputs": [],
   "source": [
    "cv = CountVectorizer(max_df = 0.9, min_df = 2, stop_words = 'english')"
   ]
  },
  {
   "cell_type": "code",
   "execution_count": 9,
   "metadata": {},
   "outputs": [],
   "source": [
    "dtm_machine = cv.fit_transform(df_machine['Article'])"
   ]
  },
  {
   "cell_type": "code",
   "execution_count": 11,
   "metadata": {},
   "outputs": [
    {
     "data": {
      "text/plain": [
       "<500x253 sparse matrix of type '<class 'numpy.int64'>'\n",
       "\twith 562 stored elements in Compressed Sparse Row format>"
      ]
     },
     "execution_count": 11,
     "metadata": {},
     "output_type": "execute_result"
    }
   ],
   "source": [
    "# \"Document * Words\" we have 253 terms(words) and 500 articles has each line is \"unique\".\n",
    "dtm_machine"
   ]
  },
  {
   "cell_type": "markdown",
   "metadata": {},
   "source": [
    "LDA is based on Probability Distribution\n",
    "Assumptions of LDA for Topic Modeling\n",
    "- Datatsets with similar topics use similar groups of words.\n",
    "- Latent topics can then be founded by searching for groups of words that frequently occur in datasets across the corpus.\n",
    "- Documents are probability distribution over latent topics.\n",
    "- Topics themselves are probability distribution over words."
   ]
  },
  {
   "cell_type": "code",
   "execution_count": 12,
   "metadata": {},
   "outputs": [],
   "source": [
    "from sklearn.decomposition import LatentDirichletAllocation"
   ]
  },
  {
   "cell_type": "code",
   "execution_count": 13,
   "metadata": {},
   "outputs": [],
   "source": [
    "#We can choose different number of n_components depending on our requiremnet and random_state is used because words are assigned at the beginning.\n",
    "LDA = LatentDirichletAllocation(n_components = 7, random_state = 42)"
   ]
  },
  {
   "cell_type": "code",
   "execution_count": 14,
   "metadata": {},
   "outputs": [
    {
     "data": {
      "text/plain": [
       "LatentDirichletAllocation(batch_size=128, doc_topic_prior=None,\n",
       "                          evaluate_every=-1, learning_decay=0.7,\n",
       "                          learning_method='batch', learning_offset=10.0,\n",
       "                          max_doc_update_iter=100, max_iter=10,\n",
       "                          mean_change_tol=0.001, n_components=7, n_jobs=None,\n",
       "                          perp_tol=0.1, random_state=42, topic_word_prior=None,\n",
       "                          total_samples=1000000.0, verbose=0)"
      ]
     },
     "execution_count": 14,
     "metadata": {},
     "output_type": "execute_result"
    }
   ],
   "source": [
    "LDA.fit(dtm_machine)"
   ]
  },
  {
   "cell_type": "code",
   "execution_count": null,
   "metadata": {},
   "outputs": [],
   "source": [
    "#Grabbing vocabulary of words."
   ]
  },
  {
   "cell_type": "code",
   "execution_count": 15,
   "metadata": {},
   "outputs": [
    {
     "data": {
      "text/plain": [
       "253"
      ]
     },
     "execution_count": 15,
     "metadata": {},
     "output_type": "execute_result"
    }
   ],
   "source": [
    "len(cv.get_feature_names())"
   ]
  },
  {
   "cell_type": "code",
   "execution_count": 16,
   "metadata": {},
   "outputs": [
    {
     "data": {
      "text/plain": [
       "list"
      ]
     },
     "execution_count": 16,
     "metadata": {},
     "output_type": "execute_result"
    }
   ],
   "source": [
    "type(cv.get_feature_names())"
   ]
  },
  {
   "cell_type": "code",
   "execution_count": 17,
   "metadata": {},
   "outputs": [
    {
     "data": {
      "text/plain": [
       "'0m'"
      ]
     },
     "execution_count": 17,
     "metadata": {},
     "output_type": "execute_result"
    }
   ],
   "source": [
    "cv.get_feature_names()[1]"
   ]
  },
  {
   "cell_type": "code",
   "execution_count": 42,
   "metadata": {},
   "outputs": [
    {
     "data": {
      "text/plain": [
       "'visit'"
      ]
     },
     "execution_count": 42,
     "metadata": {},
     "output_type": "execute_result"
    }
   ],
   "source": [
    "#Random words generation\n",
    "import random\n",
    "random_word_id = random.randint(0, 253)\n",
    "cv.get_feature_names()[random_word_id]\n",
    "#cv.get_feature_names()[1]\n"
   ]
  },
  {
   "cell_type": "code",
   "execution_count": null,
   "metadata": {},
   "outputs": [],
   "source": [
    "#Grabbing topics"
   ]
  },
  {
   "cell_type": "code",
   "execution_count": 43,
   "metadata": {},
   "outputs": [
    {
     "data": {
      "text/plain": [
       "7"
      ]
     },
     "execution_count": 43,
     "metadata": {},
     "output_type": "execute_result"
    }
   ],
   "source": [
    "len(LDA.components_)"
   ]
  },
  {
   "cell_type": "code",
   "execution_count": 44,
   "metadata": {},
   "outputs": [
    {
     "data": {
      "text/plain": [
       "numpy.ndarray"
      ]
     },
     "execution_count": 44,
     "metadata": {},
     "output_type": "execute_result"
    }
   ],
   "source": [
    "type(LDA.components_)"
   ]
  },
  {
   "cell_type": "code",
   "execution_count": 22,
   "metadata": {},
   "outputs": [
    {
     "data": {
      "text/plain": [
       "(7, 253)"
      ]
     },
     "execution_count": 22,
     "metadata": {},
     "output_type": "execute_result"
    }
   ],
   "source": [
    "LDA.components_.shape"
   ]
  },
  {
   "cell_type": "code",
   "execution_count": 23,
   "metadata": {},
   "outputs": [],
   "source": [
    "single_topic = LDA.components_[0]"
   ]
  },
  {
   "cell_type": "code",
   "execution_count": 24,
   "metadata": {},
   "outputs": [
    {
     "data": {
      "text/plain": [
       "array([223, 229, 102,  14,  65,  23, 176, 110, 221,  85, 174, 157,  88,\n",
       "        31,  34,  79, 127,  21,  99,   2, 228,  16,  90, 109,  37,  46,\n",
       "       141, 216, 238, 132,  86, 165, 128,  57, 245, 130, 112, 148, 144,\n",
       "       217, 225,  52,  59,  28,  17, 104, 187,  80, 235, 113,   9, 214,\n",
       "        64, 230, 121,  13, 243, 224, 146, 205, 173, 159,  32, 181, 234,\n",
       "       210, 199,  18, 197, 131, 251, 158,  45,  89, 185,  98,  72,  12,\n",
       "       232, 183,  20,  50, 161,  61,   7,  95,  35,  78, 163,  36,  96,\n",
       "        24, 100,  22, 172,  15, 155,   1, 139,  54, 106, 236, 212,  81,\n",
       "       117, 116, 134, 114, 166, 171, 179,  91, 180, 192,  43,  83, 206,\n",
       "       135, 136, 137, 122,  66,  47, 150,  58,   3,  87, 101, 147,  71,\n",
       "       182, 215, 248, 154, 213,  62,  38, 186, 178, 125,  68,  19, 209,\n",
       "       133, 115,  44, 204, 239, 233,   8, 202, 246,  10, 219,  84,  70,\n",
       "       151, 240, 218, 190, 126,  97, 149, 119,  77, 168,  55, 203, 105,\n",
       "       200,  82, 211, 142, 191,  30, 247,   6, 170, 111,  63,  42, 189,\n",
       "        93,  56, 201, 244,  39, 208, 169, 123, 194, 207, 156,  75,  69,\n",
       "       164, 242,  26,  60, 226,  76, 140,  92, 167, 220,  33,   5,  49,\n",
       "        51,  48, 175,   4,   0, 162, 138,  11, 108, 250, 160, 241,  25,\n",
       "       188, 152,  73, 222, 237, 184,  41,  67, 198,  29,  53, 103, 193,\n",
       "       252, 153, 177,  27, 118, 107, 143, 195, 120, 227, 145, 129, 249,\n",
       "       124, 196, 231,  40,  94,  74], dtype=int64)"
      ]
     },
     "execution_count": 24,
     "metadata": {},
     "output_type": "execute_result"
    }
   ],
   "source": [
    "single_topic.argsort()"
   ]
  },
  {
   "cell_type": "code",
   "execution_count": 25,
   "metadata": {},
   "outputs": [
    {
     "data": {
      "text/plain": [
       "array([227, 145, 129, 249, 124, 196, 231,  40,  94,  74], dtype=int64)"
      ]
     },
     "execution_count": 25,
     "metadata": {},
     "output_type": "execute_result"
    }
   ],
   "source": [
    "#Argsort index position sorted from least to Graetest\n",
    "#Top 20 values(20 Gratest values)\n",
    "#Last 20 values of argsort\n",
    "single_topic.argsort()[-20:]"
   ]
  },
  {
   "cell_type": "code",
   "execution_count": 27,
   "metadata": {},
   "outputs": [
    {
     "name": "stdout",
     "output_type": "stream",
     "text": [
      "society\n",
      "zt\n",
      "nk\n",
      "quickly\n",
      "b1\n",
      "jg\n",
      "i1\n",
      "mk\n",
      "specific\n",
      "jr\n",
      "weight\n",
      "mp\n",
      "kn\n",
      "ze\n",
      "jy\n",
      "sr\n",
      "wo\n",
      "cb\n",
      "gk\n",
      "ew\n"
     ]
    }
   ],
   "source": [
    "top_twenty_words = single_topic.argsort()[-20:]\n",
    "for index in top_twenty_words:\n",
    "    print(cv.get_feature_names()[index])"
   ]
  },
  {
   "cell_type": "code",
   "execution_count": null,
   "metadata": {},
   "outputs": [],
   "source": [
    "#Grabbing highest probability words per topic"
   ]
  },
  {
   "cell_type": "code",
   "execution_count": 28,
   "metadata": {},
   "outputs": [
    {
     "name": "stdout",
     "output_type": "stream",
     "text": [
      "The Top 15 words per topic #0\n",
      "['jg', 'i1', 'mk', 'specific', 'jr', 'weight', 'mp', 'kn', 'ze', 'jy', 'sr', 'wo', 'cb', 'gk', 'ew']\n",
      "\n",
      "\n",
      "\n",
      "\n",
      "The Top 15 words per topic #1\n",
      "['bt', 'glass', 'participant', 'cn', 'age', 'lb', 'xqi', 'aj', 'hm', 'expect', 'cj', 'k9', 'certain', 'vq', 'xy']\n",
      "\n",
      "\n",
      "\n",
      "\n",
      "The Top 15 words per topic #2\n",
      "['tr', 'mr', '4i', 'dh', 'uq', 'industry', 'wz', 'g4', 'aa', 'pass', 'jd', 'kx', 'watch', 'pc', 'hour']\n",
      "\n",
      "\n",
      "\n",
      "\n",
      "The Top 15 words per topic #3\n",
      "['gs', 'aq', 'past', 'h0', 'ri', 'wf', '14', 'hf', 'vm', 'zb', 't6', 'ap', 'book', 'college', 'il']\n",
      "\n",
      "\n",
      "\n",
      "\n",
      "The Top 15 words per topic #4\n",
      "['rb', 'bo', 'public', 'ju', 'q8', 'ft', 'ik', 'ml', 'clear', 'ph', 'jn', 'central', 'mu', 'office', 'cs']\n",
      "\n",
      "\n",
      "\n",
      "\n",
      "The Top 15 words per topic #5\n",
      "['fw', 'hk', 'community', 'ak', 'et', 'fz', 'cf', 'peace', 'visit', 'ig', '90', 'eb', 'cl', 'xx', 'size']\n",
      "\n",
      "\n",
      "\n",
      "\n",
      "The Top 15 words per topic #6\n",
      "['success', 'fv', 'uv', 'fe', 'br', 'bm', 'kd', 'fyp', 'wg', 'lt', 'd0', 'value', 'aw', '6w', 'yq']\n",
      "\n",
      "\n",
      "\n",
      "\n"
     ]
    }
   ],
   "source": [
    "for i, topic in enumerate(LDA.components_):\n",
    "    print(f\"The Top 20 words per topic #{i}\")\n",
    "    print([cv.get_feature_names()[index] for index in topic.argsort()[-20:]])\n",
    "    print('\\n')\n",
    "    print('\\n')"
   ]
  },
  {
   "cell_type": "code",
   "execution_count": 29,
   "metadata": {},
   "outputs": [
    {
     "data": {
      "text/html": [
       "<div>\n",
       "<style scoped>\n",
       "    .dataframe tbody tr th:only-of-type {\n",
       "        vertical-align: middle;\n",
       "    }\n",
       "\n",
       "    .dataframe tbody tr th {\n",
       "        vertical-align: top;\n",
       "    }\n",
       "\n",
       "    .dataframe thead th {\n",
       "        text-align: right;\n",
       "    }\n",
       "</style>\n",
       "<table border=\"1\" class=\"dataframe\">\n",
       "  <thead>\n",
       "    <tr style=\"text-align: right;\">\n",
       "      <th></th>\n",
       "      <th>Article</th>\n",
       "    </tr>\n",
       "  </thead>\n",
       "  <tbody>\n",
       "    <tr>\n",
       "      <th>0</th>\n",
       "      <td>Np^g tj5vQ  key NKVZl31 ZV</td>\n",
       "    </tr>\n",
       "    <tr>\n",
       "      <th>1</th>\n",
       "      <td>EcN !d7g moTL!3c* e^n qsG page l0u</td>\n",
       "    </tr>\n",
       "    <tr>\n",
       "      <th>2</th>\n",
       "      <td>@@rvbv 5r gYXWL police  nVV8 RZD.fV&amp;2n Jc0 EQ2iX</td>\n",
       "    </tr>\n",
       "    <tr>\n",
       "      <th>3</th>\n",
       "      <td>pZ80yue ^  difference 8Z8Z i VhK,Tn Mqj!RpIy</td>\n",
       "    </tr>\n",
       "    <tr>\n",
       "      <th>4</th>\n",
       "      <td>bKQIM@v jd3D6nnK qlru9 administration c XhM%A6...</td>\n",
       "    </tr>\n",
       "    <tr>\n",
       "      <th>...</th>\n",
       "      <td>...</td>\n",
       "    </tr>\n",
       "    <tr>\n",
       "      <th>495</th>\n",
       "      <td>D popular %dL84N3w</td>\n",
       "    </tr>\n",
       "    <tr>\n",
       "      <th>496</th>\n",
       "      <td>#$hAlw4 jN s0P#V% manager w</td>\n",
       "    </tr>\n",
       "    <tr>\n",
       "      <th>497</th>\n",
       "      <td>2D color &amp;Ww l, !VA*!Cy</td>\n",
       "    </tr>\n",
       "    <tr>\n",
       "      <th>498</th>\n",
       "      <td>wO!&amp; time y</td>\n",
       "    </tr>\n",
       "    <tr>\n",
       "      <th>499</th>\n",
       "      <td>9rE Q private tQ5A, 0TH*nhK *Ze#zPcf x42L@VfE ...</td>\n",
       "    </tr>\n",
       "  </tbody>\n",
       "</table>\n",
       "<p>500 rows × 1 columns</p>\n",
       "</div>"
      ],
      "text/plain": [
       "                                               Article\n",
       "0                           Np^g tj5vQ  key NKVZl31 ZV\n",
       "1                   EcN !d7g moTL!3c* e^n qsG page l0u\n",
       "2     @@rvbv 5r gYXWL police  nVV8 RZD.fV&2n Jc0 EQ2iX\n",
       "3         pZ80yue ^  difference 8Z8Z i VhK,Tn Mqj!RpIy\n",
       "4    bKQIM@v jd3D6nnK qlru9 administration c XhM%A6...\n",
       "..                                                 ...\n",
       "495                                 D popular %dL84N3w\n",
       "496                        #$hAlw4 jN s0P#V% manager w\n",
       "497                            2D color &Ww l, !VA*!Cy\n",
       "498                                        wO!& time y\n",
       "499  9rE Q private tQ5A, 0TH*nhK *Ze#zPcf x42L@VfE ...\n",
       "\n",
       "[500 rows x 1 columns]"
      ]
     },
     "execution_count": 29,
     "metadata": {},
     "output_type": "execute_result"
    }
   ],
   "source": [
    "df_machine"
   ]
  },
  {
   "cell_type": "code",
   "execution_count": 33,
   "metadata": {},
   "outputs": [],
   "source": [
    "topic_results = LDA.transform(dtm_machine)"
   ]
  },
  {
   "cell_type": "code",
   "execution_count": 32,
   "metadata": {},
   "outputs": [
    {
     "data": {
      "text/plain": [
       "(500, 7)"
      ]
     },
     "execution_count": 32,
     "metadata": {},
     "output_type": "execute_result"
    }
   ],
   "source": [
    "topic_results.shape"
   ]
  },
  {
   "cell_type": "code",
   "execution_count": 34,
   "metadata": {},
   "outputs": [
    {
     "data": {
      "text/plain": [
       "array([0.07, 0.07, 0.07, 0.57, 0.07, 0.07, 0.07])"
      ]
     },
     "execution_count": 34,
     "metadata": {},
     "output_type": "execute_result"
    }
   ],
   "source": [
    "topic_results[0].round(2)"
   ]
  },
  {
   "cell_type": "code",
   "execution_count": 35,
   "metadata": {},
   "outputs": [
    {
     "data": {
      "text/plain": [
       "3"
      ]
     },
     "execution_count": 35,
     "metadata": {},
     "output_type": "execute_result"
    }
   ],
   "source": [
    "topic_results[0].argmax()"
   ]
  },
  {
   "cell_type": "code",
   "execution_count": 37,
   "metadata": {},
   "outputs": [],
   "source": [
    "df_machine['Topic'] = topic_results.argmax(axis=1)"
   ]
  },
  {
   "cell_type": "code",
   "execution_count": 38,
   "metadata": {},
   "outputs": [
    {
     "data": {
      "text/html": [
       "<div>\n",
       "<style scoped>\n",
       "    .dataframe tbody tr th:only-of-type {\n",
       "        vertical-align: middle;\n",
       "    }\n",
       "\n",
       "    .dataframe tbody tr th {\n",
       "        vertical-align: top;\n",
       "    }\n",
       "\n",
       "    .dataframe thead th {\n",
       "        text-align: right;\n",
       "    }\n",
       "</style>\n",
       "<table border=\"1\" class=\"dataframe\">\n",
       "  <thead>\n",
       "    <tr style=\"text-align: right;\">\n",
       "      <th></th>\n",
       "      <th>Article</th>\n",
       "      <th>Topic</th>\n",
       "    </tr>\n",
       "  </thead>\n",
       "  <tbody>\n",
       "    <tr>\n",
       "      <th>0</th>\n",
       "      <td>Np^g tj5vQ  key NKVZl31 ZV</td>\n",
       "      <td>3</td>\n",
       "    </tr>\n",
       "    <tr>\n",
       "      <th>1</th>\n",
       "      <td>EcN !d7g moTL!3c* e^n qsG page l0u</td>\n",
       "      <td>0</td>\n",
       "    </tr>\n",
       "    <tr>\n",
       "      <th>2</th>\n",
       "      <td>@@rvbv 5r gYXWL police  nVV8 RZD.fV&amp;2n Jc0 EQ2iX</td>\n",
       "      <td>6</td>\n",
       "    </tr>\n",
       "    <tr>\n",
       "      <th>3</th>\n",
       "      <td>pZ80yue ^  difference 8Z8Z i VhK,Tn Mqj!RpIy</td>\n",
       "      <td>0</td>\n",
       "    </tr>\n",
       "    <tr>\n",
       "      <th>4</th>\n",
       "      <td>bKQIM@v jd3D6nnK qlru9 administration c XhM%A6...</td>\n",
       "      <td>0</td>\n",
       "    </tr>\n",
       "    <tr>\n",
       "      <th>...</th>\n",
       "      <td>...</td>\n",
       "      <td>...</td>\n",
       "    </tr>\n",
       "    <tr>\n",
       "      <th>495</th>\n",
       "      <td>D popular %dL84N3w</td>\n",
       "      <td>0</td>\n",
       "    </tr>\n",
       "    <tr>\n",
       "      <th>496</th>\n",
       "      <td>#$hAlw4 jN s0P#V% manager w</td>\n",
       "      <td>4</td>\n",
       "    </tr>\n",
       "    <tr>\n",
       "      <th>497</th>\n",
       "      <td>2D color &amp;Ww l, !VA*!Cy</td>\n",
       "      <td>4</td>\n",
       "    </tr>\n",
       "    <tr>\n",
       "      <th>498</th>\n",
       "      <td>wO!&amp; time y</td>\n",
       "      <td>0</td>\n",
       "    </tr>\n",
       "    <tr>\n",
       "      <th>499</th>\n",
       "      <td>9rE Q private tQ5A, 0TH*nhK *Ze#zPcf x42L@VfE ...</td>\n",
       "      <td>0</td>\n",
       "    </tr>\n",
       "  </tbody>\n",
       "</table>\n",
       "<p>500 rows × 2 columns</p>\n",
       "</div>"
      ],
      "text/plain": [
       "                                               Article  Topic\n",
       "0                           Np^g tj5vQ  key NKVZl31 ZV      3\n",
       "1                   EcN !d7g moTL!3c* e^n qsG page l0u      0\n",
       "2     @@rvbv 5r gYXWL police  nVV8 RZD.fV&2n Jc0 EQ2iX      6\n",
       "3         pZ80yue ^  difference 8Z8Z i VhK,Tn Mqj!RpIy      0\n",
       "4    bKQIM@v jd3D6nnK qlru9 administration c XhM%A6...      0\n",
       "..                                                 ...    ...\n",
       "495                                 D popular %dL84N3w      0\n",
       "496                        #$hAlw4 jN s0P#V% manager w      4\n",
       "497                            2D color &Ww l, !VA*!Cy      4\n",
       "498                                        wO!& time y      0\n",
       "499  9rE Q private tQ5A, 0TH*nhK *Ze#zPcf x42L@VfE ...      0\n",
       "\n",
       "[500 rows x 2 columns]"
      ]
     },
     "execution_count": 38,
     "metadata": {},
     "output_type": "execute_result"
    }
   ],
   "source": [
    "#Topic gives which document corresponds to which article.\n",
    "df_machine"
   ]
  },
  {
   "cell_type": "code",
   "execution_count": null,
   "metadata": {},
   "outputs": [],
   "source": []
  }
 ],
 "metadata": {
  "kernelspec": {
   "display_name": "Python 3",
   "language": "python",
   "name": "python3"
  },
  "language_info": {
   "codemirror_mode": {
    "name": "ipython",
    "version": 3
   },
   "file_extension": ".py",
   "mimetype": "text/x-python",
   "name": "python",
   "nbconvert_exporter": "python",
   "pygments_lexer": "ipython3",
   "version": "3.7.5"
  }
 },
 "nbformat": 4,
 "nbformat_minor": 4
}
